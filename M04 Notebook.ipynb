{
 "cells": [
  {
   "cell_type": "code",
   "execution_count": null,
   "id": "6d67df4c-37fc-425b-896a-655de22b6c19",
   "metadata": {},
   "outputs": [],
   "source": [
    "#zoo.py\n",
    "def hours():\n",
    "    print(\"Open 9-5 daily\")\n",
    "\n",
    "#display.py\n",
    "import zoo\n",
    "\n",
    "hours = zoo.hours\n",
    "print(hours)\n"
   ]
  },
  {
   "cell_type": "code",
   "execution_count": 1,
   "id": "e2a2870c-f55a-4c5e-927d-c69ef1ed9a86",
   "metadata": {
    "scrolled": true
   },
   "outputs": [
    {
     "ename": "ModuleNotFoundError",
     "evalue": "No module named 'zoo'",
     "output_type": "error",
     "traceback": [
      "\u001b[1;31m---------------------------------------------------------------------------\u001b[0m",
      "\u001b[1;31mModuleNotFoundError\u001b[0m                       Traceback (most recent call last)",
      "Cell \u001b[1;32mIn[1], line 6\u001b[0m\n\u001b[0;32m      3\u001b[0m     \u001b[38;5;28mprint\u001b[39m(\u001b[38;5;124m\"\u001b[39m\u001b[38;5;124mOpen 9-5 daily\u001b[39m\u001b[38;5;124m\"\u001b[39m)\n\u001b[0;32m      5\u001b[0m \u001b[38;5;66;03m#display.py\u001b[39;00m\n\u001b[1;32m----> 6\u001b[0m \u001b[38;5;28;01mimport\u001b[39;00m \u001b[38;5;21;01mzoo\u001b[39;00m \u001b[38;5;28;01mas\u001b[39;00m \u001b[38;5;21;01mmenagerie\u001b[39;00m\n\u001b[0;32m      8\u001b[0m hours \u001b[38;5;241m=\u001b[39m menagerie\u001b[38;5;241m.\u001b[39mhours\n\u001b[0;32m      9\u001b[0m \u001b[38;5;28mprint\u001b[39m(hours)\n",
      "\u001b[1;31mModuleNotFoundError\u001b[0m: No module named 'zoo'"
     ]
    }
   ],
   "source": [
    "#zoo.py\n",
    "def hours():\n",
    "    print(\"Open 9-5 daily\")\n",
    "\n",
    "#display.py\n",
    "import zoo as menagerie\n",
    "\n",
    "hours = menagerie.hours\n",
    "print(hours)"
   ]
  },
  {
   "cell_type": "code",
   "execution_count": 11,
   "id": "03e52f69-c466-4ab2-8c30-56a58b0f5b8a",
   "metadata": {},
   "outputs": [
    {
     "ename": "OperationalError",
     "evalue": "table books already exists",
     "output_type": "error",
     "traceback": [
      "\u001b[1;31m---------------------------------------------------------------------------\u001b[0m",
      "\u001b[1;31mOperationalError\u001b[0m                          Traceback (most recent call last)",
      "Cell \u001b[1;32mIn[11], line 6\u001b[0m\n\u001b[0;32m      4\u001b[0m conn \u001b[38;5;241m=\u001b[39m sqlite3\u001b[38;5;241m.\u001b[39mconnect(\u001b[38;5;124m'\u001b[39m\u001b[38;5;124mbooks.db\u001b[39m\u001b[38;5;124m'\u001b[39m)\n\u001b[0;32m      5\u001b[0m curs \u001b[38;5;241m=\u001b[39m conn\u001b[38;5;241m.\u001b[39mcursor()\n\u001b[1;32m----> 6\u001b[0m curs\u001b[38;5;241m.\u001b[39mexecute(\u001b[38;5;124m'''\u001b[39m\u001b[38;5;124mCREATE TABLE books\u001b[39m\n\u001b[0;32m      7\u001b[0m \u001b[38;5;124m(title VARCHAR(120) PRIMARY KEY,\u001b[39m\n\u001b[0;32m      8\u001b[0m \u001b[38;5;124mauthor VARCHAR(80),\u001b[39m\n\u001b[0;32m      9\u001b[0m \u001b[38;5;124myear INT)\u001b[39m\u001b[38;5;124m'''\u001b[39m)\n\u001b[0;32m     10\u001b[0m curs\u001b[38;5;241m.\u001b[39mexecute(\u001b[38;5;124m'\u001b[39m\u001b[38;5;124mINSERT INTO books VALUES(\u001b[39m\u001b[38;5;124m\"\u001b[39m\u001b[38;5;124mThe Weirdstone of Brisingamen\u001b[39m\u001b[38;5;124m\"\u001b[39m\u001b[38;5;124m,Alan Garner, 1960)\u001b[39m\u001b[38;5;124m'\u001b[39m)\n\u001b[0;32m     11\u001b[0m curs\u001b[38;5;241m.\u001b[39mexecute(\u001b[38;5;124m'\u001b[39m\u001b[38;5;124mINSERT INTO books VALUES(\u001b[39m\u001b[38;5;124m\"\u001b[39m\u001b[38;5;124mPerdido Street Station\u001b[39m\u001b[38;5;124m\"\u001b[39m\u001b[38;5;124m, China Miéville, 2000)\u001b[39m\u001b[38;5;124m'\u001b[39m)\n",
      "\u001b[1;31mOperationalError\u001b[0m: table books already exists"
     ]
    }
   ],
   "source": [
    "#books.db\n",
    "import sqlite3\n",
    "import sqlalchemy as sa\n",
    "conn = sqlite3.connect('books.db')\n",
    "curs = conn.cursor()\n",
    "curs.execute('''CREATE TABLE books\n",
    "(title VARCHAR(120) PRIMARY KEY,\n",
    "author VARCHAR(80),\n",
    "year INT)''')\n",
    "curs.execute('INSERT INTO books VALUES(\"The Weirdstone of Brisingamen\",Alan Garner, 1960)')\n",
    "curs.execute('INSERT INTO books VALUES(\"Perdido Street Station\", China Miéville, 2000)')\n",
    "curs.execute('INSERT INTO books VALUES(\"Thud!\", Terry Pratchett, 2005)')\n",
    "curs.execute('INSERT INTO books VALUES(\"The Spellman Files\", Lisa Lutz, 2007)')\n",
    "curs.execute('INSERT INTO books VALUES(\"Small Gods\", Terry Pratchett, 1992)')\n",
    "\n",
    "conn = sa.create_engine('sqlite:///books.db')"
   ]
  },
  {
   "cell_type": "code",
   "execution_count": null,
   "id": "015bdb8d-ea44-4a57-a215-ed574c1cc1c8",
   "metadata": {},
   "outputs": [],
   "source": []
  }
 ],
 "metadata": {
  "kernelspec": {
   "display_name": "Python 3 (ipykernel)",
   "language": "python",
   "name": "python3"
  },
  "language_info": {
   "codemirror_mode": {
    "name": "ipython",
    "version": 3
   },
   "file_extension": ".py",
   "mimetype": "text/x-python",
   "name": "python",
   "nbconvert_exporter": "python",
   "pygments_lexer": "ipython3",
   "version": "3.11.7"
  }
 },
 "nbformat": 4,
 "nbformat_minor": 5
}
